{
 "cells": [
  {
   "cell_type": "code",
   "execution_count": 5,
   "id": "4a16b4e2",
   "metadata": {},
   "outputs": [
    {
     "name": "stdout",
     "output_type": "stream",
     "text": [
      "\n",
      "Enter your name: yeshuul\n",
      "Enter no.of images to be taken: 1\n",
      "DIRECTORY with name yeshuul EXIST\n"
     ]
    },
    {
     "name": "stderr",
     "output_type": "stream",
     "text": [
      "100%|████████████████████████████████████████████████████████████████████████████████████| 1/1 [00:01<00:00,  1.81s/it]\n"
     ]
    },
    {
     "name": "stdout",
     "output_type": "stream",
     "text": [
      "TASK COMPLETED\n"
     ]
    }
   ],
   "source": [
    "\n",
    "# Importing Modules\n",
    "import cv2\n",
    "import numpy as np\n",
    "import os\n",
    "from tqdm import tqdm\n",
    "\n",
    "def Crete_Folder_Images(name, directory, tn):\n",
    "    # Creating directory in the file\n",
    "    if not os.path.exists(directory):\n",
    "        os.makedirs(directory)\n",
    "    else:\n",
    "        print('DIRECTORY with name %s EXIST'%name)\n",
    "    # Opening vedio mode with frontal face detector\n",
    "    faceDetect=cv2.CascadeClassifier(cv2.data.haarcascades + \"haarcascade_frontalface_default.xml\") #cv2.CascadeClassifier('haarcascade_frontalface_default.xml');\n",
    "    cam=cv2.VideoCapture(0)\n",
    "    size =(100, 100)\n",
    "    for i in tqdm(range(1, 1+ tn)):\n",
    "        ret,img=cam.read()\n",
    "        gray=cv2.cvtColor(img,cv2.COLOR_BGR2GRAY)  #for GRAY SCALE IMAGES\n",
    "        faces=faceDetect.detectMultiScale(gray,1.3,5)\n",
    "        # faces=faceDetect.detectMultiScale(img,1.3,5)    # FOR COLOR IMAGES\n",
    "        for(x,y,w,h) in faces:\n",
    "            res = cv2.resize(gray[y:y+h,x:x+w], size, interpolation = cv2.INTER_AREA)\n",
    "            cv2.imwrite('Datasets/'+'.jpg', res)  #for GRAY SCALE IMAGES\n",
    "\n",
    "            # cv2.imwrite(directory+'/'+str(name)+'-'+str(sn)+'.jpg'\n",
    "            #             ,img[y:y+h,x:x+w])  # FOR COLOR IMAGES\n",
    "            cv2.rectangle(img,(x,y),(x+w,y+h),(0,0,255),2)\n",
    "            cv2.waitKey(200)\n",
    "        cv2.imshow('DAtaset Creator',img)\n",
    "        cv2.waitKey(1)\n",
    "    cam.release()\n",
    "    cv2.destroyAllWindows()\n",
    "    print('TASK COMPLETED')\n",
    "\n",
    "# Taking inputs\n",
    "\n",
    "name=input('\\nEnter your name: ')\n",
    "\n",
    "directory='Datasets/'\n",
    "tn= int(input('Enter no.of images to be taken: '))\n",
    "Crete_Folder_Images(name, directory, tn)\n"
   ]
  },
  {
   "cell_type": "code",
   "execution_count": null,
   "id": "8a99d2e9",
   "metadata": {},
   "outputs": [],
   "source": []
  }
 ],
 "metadata": {
  "kernelspec": {
   "display_name": "Python 3 (ipykernel)",
   "language": "python",
   "name": "python3"
  },
  "language_info": {
   "codemirror_mode": {
    "name": "ipython",
    "version": 3
   },
   "file_extension": ".py",
   "mimetype": "text/x-python",
   "name": "python",
   "nbconvert_exporter": "python",
   "pygments_lexer": "ipython3",
   "version": "3.9.13"
  }
 },
 "nbformat": 4,
 "nbformat_minor": 5
}
