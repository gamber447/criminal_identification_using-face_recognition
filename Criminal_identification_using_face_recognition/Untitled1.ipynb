{
 "cells": [
  {
   "cell_type": "code",
   "execution_count": null,
   "id": "c3c46310",
   "metadata": {},
   "outputs": [],
   "source": []
  },
  {
   "cell_type": "code",
   "execution_count": 1,
   "id": "0165e469-aeac-4bc0-8065-31f7ea91513e",
   "metadata": {},
   "outputs": [
    {
     "name": "stdout",
     "output_type": "stream",
     "text": [
      "[INFO] Encoding known faces...\n",
      "[INFO] Starting webcam...\n",
      "✅ Recognized: Ganesh\n",
      "Name     : Narsingu Ganesh\n",
      "Age      : 18+\n",
      "Dob      : 20-03-2002\n",
      "Address  : kamareddygudem,thripuraram(mandal),nalgonda(dist),telangana-508207\n",
      "crime    : murder\n",
      "\n",
      "[ERROR] SMS or IP Fetch Failed: HTTP Error 429: Too Many Requests\n",
      "✅ Recognized: Hafiz_Mohammed_Saeed\n",
      "\n",
      "Name       : Hafiz Mohammed Saeed\n",
      "DOB        : 1950-06-05\n",
      "Address    : Sargodha, Punjab, Pakistan\n",
      "Nationality:  Pakistani\n",
      "crime      : The big boss of the Lashkar-e-Tayiba, \n",
      "\t     Saeed is the main person behind the 26/11 bloodbath in Mumbai.\n",
      "[ERROR] SMS or IP Fetch Failed: HTTP Error 429: Too Many Requests\n"
     ]
    }
   ],
   "source": [
    "import face_recognition\n",
    "import face_recognition.api as face_api\n",
    "import os\n",
    "import sys\n",
    "import cv2\n",
    "import numpy as np\n",
    "import math\n",
    "from twilio.rest import Client\n",
    "import json\n",
    "from urllib.request import urlopen\n",
    "\n",
    "\n",
    "# Helper\n",
    "def face_confidence(face_distance, face_match_threshold=0.5):\n",
    "    range = (1.0 - face_match_threshold)\n",
    "    linear_val = (1.0 - face_distance) / (range * 2.0)\n",
    "\n",
    "    if face_distance > face_match_threshold:\n",
    "        return str(round(linear_val * 100, 2)) + '%'\n",
    "    else:\n",
    "        value = (linear_val + ((1.0 - linear_val) * math.pow((linear_val - 0.5) * 2, 0.2))) * 100\n",
    "        return str(round(value, 2)) + '%'\n",
    "\n",
    "\n",
    "class FaceRecognition:\n",
    "    def __init__(self):\n",
    "        self.face_locations = []\n",
    "        self.face_encodings = []\n",
    "        self.face_names = []\n",
    "        self.known_face_encodings = []\n",
    "        self.known_face_names = []\n",
    "        self.process_current_frame = True\n",
    "        self.alerted_names = set()  # Prevent repeated alerts\n",
    "        self.encode_faces()\n",
    "\n",
    "    def encode_faces(self):\n",
    "        print(\"[INFO] Encoding known faces...\")\n",
    "        for image in os.listdir('Datasets'):\n",
    "            if image.lower().endswith(('.jpg', '.jpeg', '.png')):\n",
    "                path = os.path.join('Datasets', image)\n",
    "                img = face_recognition.load_image_file(path)\n",
    "                encodings = face_recognition.face_encodings(img)\n",
    "                if encodings:\n",
    "                    self.known_face_encodings.append(encodings[0])\n",
    "                    self.known_face_names.append(image)\n",
    "                else:\n",
    "                    print(f\"[Warning] No face found in {image}, skipping.\")\n",
    "\n",
    "    def run_recognition(self):\n",
    "        print(\"[INFO] Starting webcam...\")\n",
    "        video_capture = cv2.VideoCapture(0)\n",
    "\n",
    "        if not video_capture.isOpened():\n",
    "            sys.exit('Video source not found...')\n",
    "\n",
    "        while True:\n",
    "            ret, frame = video_capture.read()\n",
    "            if not ret:\n",
    "                print(\"[ERROR] Failed to grab frame\")\n",
    "                break\n",
    "\n",
    "            if self.process_current_frame:\n",
    "                # Resize frame of video to 1/4 size for faster processing\n",
    "                small_frame = cv2.resize(frame, (0, 0), fx=0.25, fy=0.25)\n",
    "                # Convert from BGR (OpenCV) to RGB (face_recognition)\n",
    "                rgb_small_frame = cv2.cvtColor(small_frame, cv2.COLOR_BGR2RGB)\n",
    "\n",
    "                # Detect face locations\n",
    "                self.face_locations = face_recognition.face_locations(rgb_small_frame)\n",
    "                self.face_encodings = []\n",
    "\n",
    "                # Compute face encodings manually with landmark detection and descriptor computation\n",
    "                for face_location in self.face_locations:\n",
    "                    try:\n",
    "                        raw_landmarks = face_api._raw_face_landmarks(rgb_small_frame, [face_location])\n",
    "                        if len(raw_landmarks) == 1:\n",
    "                            face_descriptor = face_api.face_encoder.compute_face_descriptor(\n",
    "                                rgb_small_frame,\n",
    "                                raw_landmarks[0],\n",
    "                                num_jitters=1\n",
    "                            )\n",
    "                            encoding = np.array(face_descriptor)\n",
    "                            self.face_encodings.append(encoding)\n",
    "                        else:\n",
    "                            print(\"[WARNING] Landmarks not found correctly, skipping face.\")\n",
    "                    except Exception as e:\n",
    "                        print(\"[ERROR] Skipping face due to:\", e)\n",
    "\n",
    "                self.face_names = []\n",
    "                for face_encoding in self.face_encodings:\n",
    "                    matches = face_recognition.compare_faces(self.known_face_encodings, face_encoding)\n",
    "                    name = \"Unknown\"\n",
    "                    confidence = '???'\n",
    "\n",
    "                    face_distances = face_recognition.face_distance(self.known_face_encodings, face_encoding)\n",
    "                    best_match_index = np.argmin(face_distances)\n",
    "\n",
    "                    if matches[best_match_index]:\n",
    "                        name = self.known_face_names[best_match_index]\n",
    "                        confidence = face_confidence(face_distances[best_match_index])\n",
    "\n",
    "                    label = f'{name} ({confidence})'\n",
    "                    self.face_names.append(label)\n",
    "\n",
    "                    # Alert logic\n",
    "                    try:\n",
    "                        conf_float = float(confidence.replace('%', ''))\n",
    "                    except:\n",
    "                        conf_float = 0\n",
    "\n",
    "                    if conf_float >= 85 and name not in self.alerted_names:\n",
    "                        self.alerted_names.add(name)\n",
    "\n",
    "                        if name == \"ganesh_c1.jpg\":\n",
    "                            print(\"✅ Recognized: Ganesh\")\n",
    "                            with open(\"ganesh_c1.txt\", \"r\") as f:\n",
    "                                print(f.read())\n",
    "                                \n",
    "                        elif name == \"Dawood_ibrahim.jpg\":\n",
    "                            print(\"✅ Recognized: Dawood_ibrahim\")\n",
    "                            with open(\"Dawood_Ibrahim.txt\", \"r\") as f:\n",
    "                                print(f.read())\n",
    "\n",
    "                        elif name == \"Hafiz_Mohammed_Saeed.jpg\":\n",
    "                            print(\"✅ Recognized: Hafiz_Mohammed_Saeed\")\n",
    "                            with open(\"Hafiz Mohammed Saeed.txt\", \"r\") as f:\n",
    "                                print(f.read())\n",
    "\n",
    "                        # Fetch IP info and send SMS alert\n",
    "                        try:\n",
    "                            url = 'http://ipinfo.io/json'\n",
    "                            response = urlopen(url)\n",
    "                            data = json.load(response)\n",
    "                            print(\"[LOCATION DATA]\", data)\n",
    "\n",
    "                            # Twilio SMS\n",
    "                            account_sid = 'AC124accf8811edf9e51b8145eeb115a75'\n",
    "                            auth_token = '4d5ac9f00bb4d6500e9ad666c1fa1e4d'\n",
    "                            client = Client(account_sid, auth_token)\n",
    "\n",
    "                            message = client.messages.create(\n",
    "                                body='Alert: Recognized Known Face!',\n",
    "                                from_='+15739660126',\n",
    "                                to='+918074936488'\n",
    "                            )\n",
    "                            print(\"[SMS Sent] SID:\", message.sid)\n",
    "                        except Exception as e:\n",
    "                            print(\"[ERROR] SMS or IP Fetch Failed:\", e)\n",
    "\n",
    "            self.process_current_frame = not self.process_current_frame\n",
    "\n",
    "            # Draw rectangles and labels\n",
    "            for (top, right, bottom, left), name in zip(self.face_locations, self.face_names):\n",
    "                top *= 4\n",
    "                right *= 4\n",
    "                bottom *= 4\n",
    "                left *= 4\n",
    "\n",
    "                cv2.rectangle(frame, (left, top), (right, bottom), (0, 255, 0), 2)\n",
    "                cv2.rectangle(frame, (left, bottom - 35), (right, bottom), (0, 255, 0), cv2.FILLED)\n",
    "                cv2.putText(frame, name, (left + 6, bottom - 6),\n",
    "                            cv2.FONT_HERSHEY_DUPLEX, 0.8, (255, 255, 255), 1)\n",
    "\n",
    "            cv2.imshow('Criminal Identification Using Face Recognition', frame)\n",
    "\n",
    "            if cv2.waitKey(1) & 0xFF == ord('q'):\n",
    "                break\n",
    "\n",
    "        video_capture.release()\n",
    "        cv2.destroyAllWindows()\n",
    "\n",
    "\n",
    "if __name__ == '__main__':\n",
    "    fr = FaceRecognition()\n",
    "    fr.run_recognition()\n"
   ]
  },
  {
   "cell_type": "code",
   "execution_count": 3,
   "id": "3cbc234d-b765-48ba-b980-8fded19636ea",
   "metadata": {},
   "outputs": [
    {
     "name": "stdout",
     "output_type": "stream",
     "text": [
      "Python 3.10.18\n"
     ]
    }
   ],
   "source": [
    "!python --version\n"
   ]
  },
  {
   "cell_type": "code",
   "execution_count": null,
   "id": "053936a0-eef1-4fac-9bf9-2019c047befb",
   "metadata": {},
   "outputs": [],
   "source": [
    "pip install twilio\n"
   ]
  },
  {
   "cell_type": "code",
   "execution_count": null,
   "id": "704bafd1-7c2d-49b5-aa00-31f0e01fbf99",
   "metadata": {},
   "outputs": [],
   "source": [
    "!pip install face_recognition opencv-python numpy twilio"
   ]
  },
  {
   "cell_type": "code",
   "execution_count": null,
   "id": "653ff893",
   "metadata": {},
   "outputs": [],
   "source": []
  },
  {
   "cell_type": "code",
   "execution_count": null,
   "id": "42c530ee-9868-4871-928f-907c236b8058",
   "metadata": {},
   "outputs": [],
   "source": [
    "!python  --version"
   ]
  },
  {
   "cell_type": "code",
   "execution_count": null,
   "id": "ca37d8c3-b364-4a36-a4cd-acfd2f21fbc7",
   "metadata": {},
   "outputs": [],
   "source": [
    "pip install face_recognition\n"
   ]
  },
  {
   "cell_type": "code",
   "execution_count": null,
   "id": "1d5c6c88",
   "metadata": {},
   "outputs": [],
   "source": [
    "pip install twilio\n"
   ]
  },
  {
   "cell_type": "code",
   "execution_count": null,
   "id": "89ab3e3b",
   "metadata": {},
   "outputs": [],
   "source": [
    "import json\n",
    "from urllib.request import urlopen\n",
    "import os\n",
    "from twilio.rest import Client"
   ]
  },
  {
   "cell_type": "code",
   "execution_count": null,
   "id": "d361d4b7",
   "metadata": {},
   "outputs": [],
   "source": [
    "url='http://ipinfo.io/json'\n",
    "response=urlopen(url)\n",
    "data=json.load(response)\n",
    "print(data)\n",
    "# Find your Account SID and Auth Token at twilio.com/console\n",
    "# and set the environment variables. See http://twil.io/secure\n",
    "account_sid = 'AC124accf8811edf9e51b8145eeb115a75'\n",
    "auth_token = '4d5ac9f00bb4d6500e9ad666c1fa1e4d'\n",
    "client = Client(account_sid, auth_token)\n",
    "\n",
    "message = client.messages \\\n",
    "    .create(\n",
    "         body='Alert!!!!',\n",
    "         from_='+15739660126',\n",
    "         to='+916303902129'\n",
    "     )"
   ]
  },
  {
   "cell_type": "code",
   "execution_count": null,
   "id": "2c8bc288",
   "metadata": {},
   "outputs": [],
   "source": [
    "pip install geopy"
   ]
  },
  {
   "cell_type": "code",
   "execution_count": null,
   "id": "e9e503cb",
   "metadata": {},
   "outputs": [],
   "source": [
    "from geopy.geocoders import Nominatim\n",
    "loc=Nominatim(user_agent=\"GetLoc\")\n",
    "getLoc=loc.geocode(\"india\")\n",
    "print(getLoc.address)\n",
    "print(\"latitude\",getLoc.latitude,\"\\n\")\n",
    "print(\"logitude\",getLoc.longitude)"
   ]
  },
  {
   "cell_type": "code",
   "execution_count": null,
   "id": "78bd1d3e",
   "metadata": {},
   "outputs": [],
   "source": [
    "pip install urllib3"
   ]
  },
  {
   "cell_type": "code",
   "execution_count": null,
   "id": "98a5437f",
   "metadata": {},
   "outputs": [],
   "source": [
    "import json\n",
    "from urllib.request import urlopen\n",
    "url=\"http://ipinfo.io/json\"\n",
    "response=urlopen(url)\n",
    "data=json.load(response)\n",
    "print(data)\n"
   ]
  },
  {
   "cell_type": "code",
   "execution_count": null,
   "id": "ddbe2378",
   "metadata": {},
   "outputs": [],
   "source": []
  },
  {
   "cell_type": "code",
   "execution_count": null,
   "id": "e7308b81",
   "metadata": {},
   "outputs": [],
   "source": []
  }
 ],
 "metadata": {
  "kernelspec": {
   "display_name": "Python [conda env:face_env]",
   "language": "python",
   "name": "conda-env-face_env-py"
  },
  "language_info": {
   "codemirror_mode": {
    "name": "ipython",
    "version": 3
   },
   "file_extension": ".py",
   "mimetype": "text/x-python",
   "name": "python",
   "nbconvert_exporter": "python",
   "pygments_lexer": "ipython3",
   "version": "3.10.18"
  }
 },
 "nbformat": 4,
 "nbformat_minor": 5
}
